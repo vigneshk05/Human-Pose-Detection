{
 "cells": [
  {
   "cell_type": "code",
   "execution_count": 1,
   "id": "daebf325",
   "metadata": {},
   "outputs": [
    {
     "name": "stdout",
     "output_type": "stream",
     "text": [
      "Requirement already satisfied: tensorflow==2.4.1 in c:\\users\\user\\anaconda\\lib\\site-packages (2.4.1)\n",
      "Requirement already satisfied: opt-einsum~=3.3.0 in c:\\users\\user\\anaconda\\lib\\site-packages (from tensorflow==2.4.1) (3.3.0)\n",
      "Requirement already satisfied: keras-preprocessing~=1.1.2 in c:\\users\\user\\anaconda\\lib\\site-packages (from tensorflow==2.4.1) (1.1.2)\n",
      "Requirement already satisfied: typing-extensions~=3.7.4 in c:\\users\\user\\anaconda\\lib\\site-packages (from tensorflow==2.4.1) (3.7.4.3)\n",
      "Requirement already satisfied: termcolor~=1.1.0 in c:\\users\\user\\anaconda\\lib\\site-packages (from tensorflow==2.4.1) (1.1.0)\n",
      "Requirement already satisfied: wrapt~=1.12.1 in c:\\users\\user\\anaconda\\lib\\site-packages (from tensorflow==2.4.1) (1.12.1)\n",
      "Requirement already satisfied: wheel~=0.35 in c:\\users\\user\\anaconda\\lib\\site-packages (from tensorflow==2.4.1) (0.36.2)\n",
      "Requirement already satisfied: protobuf>=3.9.2 in c:\\users\\user\\anaconda\\lib\\site-packages (from tensorflow==2.4.1) (3.19.4)\n",
      "Requirement already satisfied: tensorboard~=2.4 in c:\\users\\user\\anaconda\\lib\\site-packages (from tensorflow==2.4.1) (2.9.1)\n",
      "Requirement already satisfied: six~=1.15.0 in c:\\users\\user\\anaconda\\lib\\site-packages (from tensorflow==2.4.1) (1.15.0)\n",
      "Requirement already satisfied: tensorflow-estimator<2.5.0,>=2.4.0 in c:\\users\\user\\anaconda\\lib\\site-packages (from tensorflow==2.4.1) (2.4.0)\n",
      "Requirement already satisfied: grpcio~=1.32.0 in c:\\users\\user\\anaconda\\lib\\site-packages (from tensorflow==2.4.1) (1.32.0)\n",
      "Requirement already satisfied: numpy~=1.19.2 in c:\\users\\user\\anaconda\\lib\\site-packages (from tensorflow==2.4.1) (1.19.5)\n",
      "Requirement already satisfied: astunparse~=1.6.3 in c:\\users\\user\\anaconda\\lib\\site-packages (from tensorflow==2.4.1) (1.6.3)\n",
      "Requirement already satisfied: h5py~=2.10.0 in c:\\users\\user\\anaconda\\lib\\site-packages (from tensorflow==2.4.1) (2.10.0)\n",
      "Requirement already satisfied: absl-py~=0.10 in c:\\users\\user\\anaconda\\lib\\site-packages (from tensorflow==2.4.1) (0.15.0)\n",
      "Requirement already satisfied: flatbuffers~=1.12.0 in c:\\users\\user\\anaconda\\lib\\site-packages (from tensorflow==2.4.1) (1.12)\n",
      "Requirement already satisfied: google-pasta~=0.2 in c:\\users\\user\\anaconda\\lib\\site-packages (from tensorflow==2.4.1) (0.2.0)\n",
      "Requirement already satisfied: gast==0.3.3 in c:\\users\\user\\anaconda\\lib\\site-packages (from tensorflow==2.4.1) (0.3.3)\n",
      "Requirement already satisfied: requests<3,>=2.21.0 in c:\\users\\user\\anaconda\\lib\\site-packages (from tensorboard~=2.4->tensorflow==2.4.1) (2.25.1)\n",
      "Requirement already satisfied: tensorboard-plugin-wit>=1.6.0 in c:\\users\\user\\anaconda\\lib\\site-packages (from tensorboard~=2.4->tensorflow==2.4.1) (1.8.1)\n",
      "Requirement already satisfied: setuptools>=41.0.0 in c:\\users\\user\\anaconda\\lib\\site-packages (from tensorboard~=2.4->tensorflow==2.4.1) (52.0.0.post20210125)\n",
      "Requirement already satisfied: markdown>=2.6.8 in c:\\users\\user\\anaconda\\lib\\site-packages (from tensorboard~=2.4->tensorflow==2.4.1) (3.4.1)\n",
      "Requirement already satisfied: werkzeug>=1.0.1 in c:\\users\\user\\anaconda\\lib\\site-packages (from tensorboard~=2.4->tensorflow==2.4.1) (1.0.1)\n",
      "Requirement already satisfied: google-auth<3,>=1.6.3 in c:\\users\\user\\anaconda\\lib\\site-packages (from tensorboard~=2.4->tensorflow==2.4.1) (2.11.0)\n",
      "Requirement already satisfied: tensorboard-data-server<0.7.0,>=0.6.0 in c:\\users\\user\\anaconda\\lib\\site-packages (from tensorboard~=2.4->tensorflow==2.4.1) (0.6.1)\n",
      "Requirement already satisfied: google-auth-oauthlib<0.5,>=0.4.1 in c:\\users\\user\\anaconda\\lib\\site-packages (from tensorboard~=2.4->tensorflow==2.4.1) (0.4.6)\n",
      "Requirement already satisfied: rsa<5,>=3.1.4 in c:\\users\\user\\anaconda\\lib\\site-packages (from google-auth<3,>=1.6.3->tensorboard~=2.4->tensorflow==2.4.1) (4.9)\n",
      "Requirement already satisfied: pyasn1-modules>=0.2.1 in c:\\users\\user\\anaconda\\lib\\site-packages (from google-auth<3,>=1.6.3->tensorboard~=2.4->tensorflow==2.4.1) (0.2.8)\n",
      "Requirement already satisfied: cachetools<6.0,>=2.0.0 in c:\\users\\user\\anaconda\\lib\\site-packages (from google-auth<3,>=1.6.3->tensorboard~=2.4->tensorflow==2.4.1) (5.2.0)\n",
      "Requirement already satisfied: requests-oauthlib>=0.7.0 in c:\\users\\user\\anaconda\\lib\\site-packages (from google-auth-oauthlib<0.5,>=0.4.1->tensorboard~=2.4->tensorflow==2.4.1) (1.3.1)\n",
      "Requirement already satisfied: importlib-metadata>=4.4 in c:\\users\\user\\anaconda\\lib\\site-packages (from markdown>=2.6.8->tensorboard~=2.4->tensorflow==2.4.1) (4.12.0)\n",
      "Requirement already satisfied: zipp>=0.5 in c:\\users\\user\\anaconda\\lib\\site-packages (from importlib-metadata>=4.4->markdown>=2.6.8->tensorboard~=2.4->tensorflow==2.4.1) (3.4.1)\n",
      "Requirement already satisfied: pyasn1<0.5.0,>=0.4.6 in c:\\users\\user\\anaconda\\lib\\site-packages (from pyasn1-modules>=0.2.1->google-auth<3,>=1.6.3->tensorboard~=2.4->tensorflow==2.4.1) (0.4.8)\n",
      "Requirement already satisfied: chardet<5,>=3.0.2 in c:\\users\\user\\anaconda\\lib\\site-packages (from requests<3,>=2.21.0->tensorboard~=2.4->tensorflow==2.4.1) (4.0.0)\n",
      "Requirement already satisfied: idna<3,>=2.5 in c:\\users\\user\\anaconda\\lib\\site-packages (from requests<3,>=2.21.0->tensorboard~=2.4->tensorflow==2.4.1) (2.10)\n",
      "Requirement already satisfied: certifi>=2017.4.17 in c:\\users\\user\\anaconda\\lib\\site-packages (from requests<3,>=2.21.0->tensorboard~=2.4->tensorflow==2.4.1) (2020.12.5)\n",
      "Requirement already satisfied: urllib3<1.27,>=1.21.1 in c:\\users\\user\\anaconda\\lib\\site-packages (from requests<3,>=2.21.0->tensorboard~=2.4->tensorflow==2.4.1) (1.26.4)\n",
      "Requirement already satisfied: oauthlib>=3.0.0 in c:\\users\\user\\anaconda\\lib\\site-packages (from requests-oauthlib>=0.7.0->google-auth-oauthlib<0.5,>=0.4.1->tensorboard~=2.4->tensorflow==2.4.1) (3.2.0)\n"
     ]
    }
   ],
   "source": [
    "!pip install tensorflow==2.4.1   "
   ]
  },
  {
   "cell_type": "code",
   "execution_count": 2,
   "id": "e16c3d13",
   "metadata": {},
   "outputs": [
    {
     "name": "stdout",
     "output_type": "stream",
     "text": [
      "Requirement already satisfied: tensorflow-gpu==2.4.1 in c:\\users\\user\\anaconda\\lib\\site-packages (2.4.1)\n",
      "Requirement already satisfied: absl-py~=0.10 in c:\\users\\user\\anaconda\\lib\\site-packages (from tensorflow-gpu==2.4.1) (0.15.0)\n",
      "Requirement already satisfied: wheel~=0.35 in c:\\users\\user\\anaconda\\lib\\site-packages (from tensorflow-gpu==2.4.1) (0.36.2)\n",
      "Requirement already satisfied: tensorflow-estimator<2.5.0,>=2.4.0 in c:\\users\\user\\anaconda\\lib\\site-packages (from tensorflow-gpu==2.4.1) (2.4.0)\n",
      "Requirement already satisfied: tensorboard~=2.4 in c:\\users\\user\\anaconda\\lib\\site-packages (from tensorflow-gpu==2.4.1) (2.9.1)\n",
      "Requirement already satisfied: astunparse~=1.6.3 in c:\\users\\user\\anaconda\\lib\\site-packages (from tensorflow-gpu==2.4.1) (1.6.3)\n",
      "Requirement already satisfied: typing-extensions~=3.7.4 in c:\\users\\user\\anaconda\\lib\\site-packages (from tensorflow-gpu==2.4.1) (3.7.4.3)\n",
      "Requirement already satisfied: grpcio~=1.32.0 in c:\\users\\user\\anaconda\\lib\\site-packages (from tensorflow-gpu==2.4.1) (1.32.0)\n",
      "Requirement already satisfied: flatbuffers~=1.12.0 in c:\\users\\user\\anaconda\\lib\\site-packages (from tensorflow-gpu==2.4.1) (1.12)\n",
      "Requirement already satisfied: keras-preprocessing~=1.1.2 in c:\\users\\user\\anaconda\\lib\\site-packages (from tensorflow-gpu==2.4.1) (1.1.2)\n",
      "Requirement already satisfied: numpy~=1.19.2 in c:\\users\\user\\anaconda\\lib\\site-packages (from tensorflow-gpu==2.4.1) (1.19.5)\n",
      "Requirement already satisfied: protobuf>=3.9.2 in c:\\users\\user\\anaconda\\lib\\site-packages (from tensorflow-gpu==2.4.1) (3.19.4)\n",
      "Requirement already satisfied: termcolor~=1.1.0 in c:\\users\\user\\anaconda\\lib\\site-packages (from tensorflow-gpu==2.4.1) (1.1.0)\n",
      "Requirement already satisfied: wrapt~=1.12.1 in c:\\users\\user\\anaconda\\lib\\site-packages (from tensorflow-gpu==2.4.1) (1.12.1)\n",
      "Requirement already satisfied: opt-einsum~=3.3.0 in c:\\users\\user\\anaconda\\lib\\site-packages (from tensorflow-gpu==2.4.1) (3.3.0)\n",
      "Requirement already satisfied: h5py~=2.10.0 in c:\\users\\user\\anaconda\\lib\\site-packages (from tensorflow-gpu==2.4.1) (2.10.0)\n",
      "Requirement already satisfied: six~=1.15.0 in c:\\users\\user\\anaconda\\lib\\site-packages (from tensorflow-gpu==2.4.1) (1.15.0)\n",
      "Requirement already satisfied: gast==0.3.3 in c:\\users\\user\\anaconda\\lib\\site-packages (from tensorflow-gpu==2.4.1) (0.3.3)\n",
      "Requirement already satisfied: google-pasta~=0.2 in c:\\users\\user\\anaconda\\lib\\site-packages (from tensorflow-gpu==2.4.1) (0.2.0)\n",
      "Requirement already satisfied: google-auth-oauthlib<0.5,>=0.4.1 in c:\\users\\user\\anaconda\\lib\\site-packages (from tensorboard~=2.4->tensorflow-gpu==2.4.1) (0.4.6)\n",
      "Requirement already satisfied: requests<3,>=2.21.0 in c:\\users\\user\\anaconda\\lib\\site-packages (from tensorboard~=2.4->tensorflow-gpu==2.4.1) (2.25.1)\n",
      "Requirement already satisfied: tensorboard-data-server<0.7.0,>=0.6.0 in c:\\users\\user\\anaconda\\lib\\site-packages (from tensorboard~=2.4->tensorflow-gpu==2.4.1) (0.6.1)\n",
      "Requirement already satisfied: werkzeug>=1.0.1 in c:\\users\\user\\anaconda\\lib\\site-packages (from tensorboard~=2.4->tensorflow-gpu==2.4.1) (1.0.1)\n",
      "Requirement already satisfied: markdown>=2.6.8 in c:\\users\\user\\anaconda\\lib\\site-packages (from tensorboard~=2.4->tensorflow-gpu==2.4.1) (3.4.1)\n",
      "Requirement already satisfied: setuptools>=41.0.0 in c:\\users\\user\\anaconda\\lib\\site-packages (from tensorboard~=2.4->tensorflow-gpu==2.4.1) (52.0.0.post20210125)\n",
      "Requirement already satisfied: tensorboard-plugin-wit>=1.6.0 in c:\\users\\user\\anaconda\\lib\\site-packages (from tensorboard~=2.4->tensorflow-gpu==2.4.1) (1.8.1)\n",
      "Requirement already satisfied: google-auth<3,>=1.6.3 in c:\\users\\user\\anaconda\\lib\\site-packages (from tensorboard~=2.4->tensorflow-gpu==2.4.1) (2.11.0)\n",
      "Requirement already satisfied: rsa<5,>=3.1.4 in c:\\users\\user\\anaconda\\lib\\site-packages (from google-auth<3,>=1.6.3->tensorboard~=2.4->tensorflow-gpu==2.4.1) (4.9)\n",
      "Requirement already satisfied: cachetools<6.0,>=2.0.0 in c:\\users\\user\\anaconda\\lib\\site-packages (from google-auth<3,>=1.6.3->tensorboard~=2.4->tensorflow-gpu==2.4.1) (5.2.0)\n",
      "Requirement already satisfied: pyasn1-modules>=0.2.1 in c:\\users\\user\\anaconda\\lib\\site-packages (from google-auth<3,>=1.6.3->tensorboard~=2.4->tensorflow-gpu==2.4.1) (0.2.8)\n",
      "Requirement already satisfied: requests-oauthlib>=0.7.0 in c:\\users\\user\\anaconda\\lib\\site-packages (from google-auth-oauthlib<0.5,>=0.4.1->tensorboard~=2.4->tensorflow-gpu==2.4.1) (1.3.1)\n",
      "Requirement already satisfied: importlib-metadata>=4.4 in c:\\users\\user\\anaconda\\lib\\site-packages (from markdown>=2.6.8->tensorboard~=2.4->tensorflow-gpu==2.4.1) (4.12.0)\n",
      "Requirement already satisfied: zipp>=0.5 in c:\\users\\user\\anaconda\\lib\\site-packages (from importlib-metadata>=4.4->markdown>=2.6.8->tensorboard~=2.4->tensorflow-gpu==2.4.1) (3.4.1)\n",
      "Requirement already satisfied: pyasn1<0.5.0,>=0.4.6 in c:\\users\\user\\anaconda\\lib\\site-packages (from pyasn1-modules>=0.2.1->google-auth<3,>=1.6.3->tensorboard~=2.4->tensorflow-gpu==2.4.1) (0.4.8)\n",
      "Requirement already satisfied: chardet<5,>=3.0.2 in c:\\users\\user\\anaconda\\lib\\site-packages (from requests<3,>=2.21.0->tensorboard~=2.4->tensorflow-gpu==2.4.1) (4.0.0)\n",
      "Requirement already satisfied: urllib3<1.27,>=1.21.1 in c:\\users\\user\\anaconda\\lib\\site-packages (from requests<3,>=2.21.0->tensorboard~=2.4->tensorflow-gpu==2.4.1) (1.26.4)\n",
      "Requirement already satisfied: certifi>=2017.4.17 in c:\\users\\user\\anaconda\\lib\\site-packages (from requests<3,>=2.21.0->tensorboard~=2.4->tensorflow-gpu==2.4.1) (2020.12.5)\n",
      "Requirement already satisfied: idna<3,>=2.5 in c:\\users\\user\\anaconda\\lib\\site-packages (from requests<3,>=2.21.0->tensorboard~=2.4->tensorflow-gpu==2.4.1) (2.10)\n",
      "Requirement already satisfied: oauthlib>=3.0.0 in c:\\users\\user\\anaconda\\lib\\site-packages (from requests-oauthlib>=0.7.0->google-auth-oauthlib<0.5,>=0.4.1->tensorboard~=2.4->tensorflow-gpu==2.4.1) (3.2.0)\n"
     ]
    }
   ],
   "source": [
    "!pip install tensorflow-gpu==2.4.1"
   ]
  },
  {
   "cell_type": "code",
   "execution_count": 3,
   "id": "04250e8e",
   "metadata": {},
   "outputs": [
    {
     "name": "stdout",
     "output_type": "stream",
     "text": [
      "Requirement already satisfied: tensorflow-hub in c:\\users\\user\\anaconda\\lib\\site-packages (0.12.0)\n",
      "Requirement already satisfied: protobuf>=3.8.0 in c:\\users\\user\\anaconda\\lib\\site-packages (from tensorflow-hub) (3.19.4)\n",
      "Requirement already satisfied: numpy>=1.12.0 in c:\\users\\user\\anaconda\\lib\\site-packages (from tensorflow-hub) (1.19.5)\n"
     ]
    }
   ],
   "source": [
    "!pip install tensorflow-hub"
   ]
  },
  {
   "cell_type": "code",
   "execution_count": 4,
   "id": "130e13cb",
   "metadata": {},
   "outputs": [
    {
     "name": "stdout",
     "output_type": "stream",
     "text": [
      "Requirement already satisfied: opencv-python in c:\\users\\user\\anaconda\\lib\\site-packages (4.6.0.66)\n",
      "Requirement already satisfied: matplotlib in c:\\users\\user\\anaconda\\lib\\site-packages (3.3.4)\n",
      "Requirement already satisfied: cycler>=0.10 in c:\\users\\user\\anaconda\\lib\\site-packages (from matplotlib) (0.10.0)\n",
      "Requirement already satisfied: python-dateutil>=2.1 in c:\\users\\user\\anaconda\\lib\\site-packages (from matplotlib) (2.8.1)\n",
      "Requirement already satisfied: pyparsing!=2.0.4,!=2.1.2,!=2.1.6,>=2.0.3 in c:\\users\\user\\anaconda\\lib\\site-packages (from matplotlib) (2.4.7)\n",
      "Requirement already satisfied: pillow>=6.2.0 in c:\\users\\user\\anaconda\\lib\\site-packages (from matplotlib) (8.2.0)\n",
      "Requirement already satisfied: numpy>=1.15 in c:\\users\\user\\anaconda\\lib\\site-packages (from matplotlib) (1.19.5)\n",
      "Requirement already satisfied: kiwisolver>=1.0.1 in c:\\users\\user\\anaconda\\lib\\site-packages (from matplotlib) (1.3.1)\n",
      "Requirement already satisfied: six in c:\\users\\user\\anaconda\\lib\\site-packages (from cycler>=0.10->matplotlib) (1.15.0)\n"
     ]
    }
   ],
   "source": [
    "!pip install opencv-python matplotlib"
   ]
  },
  {
   "cell_type": "code",
   "execution_count": 2,
   "id": "cb0ee587",
   "metadata": {},
   "outputs": [],
   "source": [
    "import tensorflow as tf\n",
    "import tensorflow_hub as hub\n",
    "import cv2\n",
    "from matplotlib import pyplot as plt\n",
    "import numpy as np"
   ]
  },
  {
   "cell_type": "code",
   "execution_count": 11,
   "id": "cd12c09a",
   "metadata": {},
   "outputs": [],
   "source": [
    "gpus = tf.config.experimental.list_physical_devices('GPU')\n",
    "for gpu in gpus:\n",
    "    tf.config.experimental.set_memory_growth(gpu, True)"
   ]
  },
  {
   "cell_type": "code",
   "execution_count": null,
   "id": "a61c1cdb",
   "metadata": {},
   "outputs": [],
   "source": [
    "model = hub.load('https://tfhub.dev/google/movenet/multipose/lightning/1')\n",
    "movenet = model.signatures['serving_default']"
   ]
  },
  {
   "cell_type": "code",
   "execution_count": null,
   "id": "1ff4e35d",
   "metadata": {},
   "outputs": [],
   "source": [
    "cap = cv2.VideoCapture('C:\\\\Users\\\\User\\\\novak.mp4')\n",
    "while cap.isOpened():\n",
    "    ret, frame = cap.read()\n",
    "    \n",
    "    # Resize image\n",
    "    img = frame.copy()\n",
    "    img = tf.image.resize_with_pad(tf.expand_dims(img, axis=0), 352,640) # 192 256\n",
    "    input_img = tf.cast(img, dtype=tf.int32)\n",
    "    \n",
    "    # Detection section\n",
    "    results = movenet(input_img)\n",
    "    keypoints_with_scores = results['output_0'].numpy()[:,:,:51].reshape((6,17,3))\n",
    "    \n",
    "    # Render keypoints \n",
    "    loop_through_people(frame, keypoints_with_scores, EDGES, 0.1) #0.3\n",
    "    \n",
    "    cv2.imshow('Movenet Multipose', frame)\n",
    "    \n",
    "    if cv2.waitKey(10) & 0xFF==ord('q'):\n",
    "        break\n",
    "cap.release()\n",
    "cv2.destroyAllWindows()"
   ]
  },
  {
   "cell_type": "code",
   "execution_count": null,
   "id": "169540ff",
   "metadata": {},
   "outputs": [],
   "source": [
    "#plt.imshow(frame)"
   ]
  },
  {
   "cell_type": "code",
   "execution_count": 28,
   "id": "4e97390e",
   "metadata": {},
   "outputs": [
    {
     "data": {
      "text/plain": [
       "array([[[7.65526235e-01, 6.52963519e-01, 1.70355216e-01],\n",
       "        [6.80348039e-01, 6.87467158e-01, 2.23887637e-01],\n",
       "        [6.79663360e-01, 6.03413522e-01, 1.71073332e-01],\n",
       "        [7.14429975e-01, 7.28903770e-01, 8.71129856e-02],\n",
       "        [7.36652315e-01, 5.23035824e-01, 1.99948810e-02],\n",
       "        [8.19265544e-01, 7.29393363e-01, 5.92180528e-03],\n",
       "        [8.07242155e-01, 4.77194548e-01, 1.82278901e-02],\n",
       "        [8.15371692e-01, 7.24579632e-01, 5.08164558e-05],\n",
       "        [8.04157376e-01, 4.77026612e-01, 7.61439791e-04],\n",
       "        [7.84912944e-01, 6.59221411e-01, 3.56216803e-02],\n",
       "        [7.97469854e-01, 5.21741807e-01, 1.23837655e-02],\n",
       "        [7.94801116e-01, 7.03563273e-01, 1.95411690e-06],\n",
       "        [7.91571558e-01, 5.98784029e-01, 2.84397629e-07],\n",
       "        [7.94218481e-01, 6.56791627e-01, 1.20455651e-02],\n",
       "        [7.94379711e-01, 5.55806816e-01, 3.24555635e-02],\n",
       "        [6.63472295e-01, 5.73038399e-01, 1.04145044e-02],\n",
       "        [6.64950371e-01, 5.91768444e-01, 5.99489408e-03]],\n",
       "\n",
       "       [[6.23947501e-01, 2.80811638e-01, 3.19204479e-01],\n",
       "        [6.18116140e-01, 2.83010423e-01, 2.65485317e-01],\n",
       "        [6.17847025e-01, 2.77600855e-01, 2.94081539e-01],\n",
       "        [6.20366096e-01, 2.82435864e-01, 2.94435531e-01],\n",
       "        [6.20827317e-01, 2.70586699e-01, 3.00633103e-01],\n",
       "        [6.57243669e-01, 2.86536247e-01, 1.66189477e-01],\n",
       "        [6.45070851e-01, 2.67099321e-01, 1.62989259e-01],\n",
       "        [6.55241013e-01, 2.90721953e-01, 9.19482559e-02],\n",
       "        [6.22079551e-01, 2.65206367e-01, 9.21431631e-02],\n",
       "        [6.15302205e-01, 2.77880847e-01, 1.35893792e-01],\n",
       "        [6.12059891e-01, 2.68073469e-01, 1.03817105e-01],\n",
       "        [6.38029158e-01, 2.84112543e-01, 6.50181696e-02],\n",
       "        [6.47195995e-01, 2.71665603e-01, 1.01292051e-01],\n",
       "        [6.37414873e-01, 2.82278150e-01, 7.22908378e-02],\n",
       "        [6.16675019e-01, 2.72755235e-01, 8.87972862e-02],\n",
       "        [6.45476520e-01, 2.83198297e-01, 4.75146808e-02],\n",
       "        [6.43527091e-01, 2.75970250e-01, 5.92643544e-02]],\n",
       "\n",
       "       [[7.71488369e-01, 4.45258766e-01, 1.58001959e-01],\n",
       "        [7.63914764e-01, 4.46306229e-01, 9.54812169e-02],\n",
       "        [7.63845205e-01, 4.43018645e-01, 1.52473196e-01],\n",
       "        [7.65405655e-01, 4.46003973e-01, 8.04139823e-02],\n",
       "        [7.65046597e-01, 4.41255331e-01, 1.96548134e-01],\n",
       "        [7.99400568e-01, 4.54950869e-01, 3.81881259e-02],\n",
       "        [7.86799192e-01, 4.35936123e-01, 1.09209798e-01],\n",
       "        [8.29703689e-01, 4.46254104e-01, 3.73266600e-02],\n",
       "        [8.36540639e-01, 4.24499601e-01, 5.10421880e-02],\n",
       "        [8.01301003e-01, 4.39935774e-01, 6.72325194e-02],\n",
       "        [7.98606515e-01, 4.34295237e-01, 7.27459788e-02],\n",
       "        [8.96418691e-01, 4.35472339e-01, 2.74181068e-02],\n",
       "        [8.84637237e-01, 4.33879852e-01, 5.35247661e-02],\n",
       "        [8.82465065e-01, 4.46137726e-01, 3.25317383e-02],\n",
       "        [8.90744686e-01, 4.33280706e-01, 4.25374769e-02],\n",
       "        [9.00653303e-01, 4.33913857e-01, 3.17642540e-02],\n",
       "        [8.88115406e-01, 4.33224261e-01, 3.54089923e-02]],\n",
       "\n",
       "       [[7.71488369e-01, 4.45258766e-01, 1.58001959e-01],\n",
       "        [7.62054205e-01, 4.46175426e-01, 9.41535085e-02],\n",
       "        [7.62218356e-01, 4.43222582e-01, 1.24720737e-01],\n",
       "        [7.62939930e-01, 4.45655257e-01, 7.23203644e-02],\n",
       "        [7.65046597e-01, 4.41255331e-01, 1.96548134e-01],\n",
       "        [7.83578515e-01, 4.41549301e-01, 4.36623134e-02],\n",
       "        [7.72585273e-01, 4.32867765e-01, 1.44148275e-01],\n",
       "        [7.78822601e-01, 4.33503449e-01, 4.15984504e-02],\n",
       "        [7.77359247e-01, 4.27044153e-01, 6.65832385e-02],\n",
       "        [7.75279999e-01, 4.35675353e-01, 7.50744715e-02],\n",
       "        [7.80425310e-01, 4.34583247e-01, 8.69347006e-02],\n",
       "        [8.64762723e-01, 4.36187655e-01, 3.42305079e-02],\n",
       "        [8.63536596e-01, 4.29672331e-01, 6.53215945e-02],\n",
       "        [8.63392234e-01, 4.35297579e-01, 3.78638320e-02],\n",
       "        [8.71635854e-01, 4.32784617e-01, 5.01693413e-02],\n",
       "        [8.90150726e-01, 4.33878481e-01, 3.47967520e-02],\n",
       "        [8.67018342e-01, 4.24797595e-01, 3.45488191e-02]],\n",
       "\n",
       "       [[7.03458965e-01, 4.97056961e-01, 2.42673159e-02],\n",
       "        [6.90120876e-01, 5.04804313e-01, 1.85915437e-02],\n",
       "        [6.73185825e-01, 5.12666047e-01, 5.39887324e-02],\n",
       "        [7.24174142e-01, 5.11830270e-01, 2.11325958e-02],\n",
       "        [7.16942728e-01, 4.97925520e-01, 5.39636202e-02],\n",
       "        [7.49945819e-01, 5.01857102e-01, 6.58026431e-03],\n",
       "        [7.20210791e-01, 4.73518103e-01, 7.80357197e-02],\n",
       "        [7.04705000e-01, 4.94485378e-01, 2.11841781e-02],\n",
       "        [7.50182509e-01, 4.26196426e-01, 3.44660915e-02],\n",
       "        [6.95896149e-01, 4.78710860e-01, 2.79906057e-02],\n",
       "        [7.56074607e-01, 4.35931414e-01, 2.92496700e-02],\n",
       "        [7.62043595e-01, 4.74753439e-01, 2.17565019e-02],\n",
       "        [7.72209287e-01, 4.39192444e-01, 4.31495421e-02],\n",
       "        [7.90109515e-01, 5.16135216e-01, 3.00172493e-02],\n",
       "        [7.78221309e-01, 4.34889764e-01, 4.72099595e-02],\n",
       "        [7.81908035e-01, 4.82670307e-01, 3.04562170e-02],\n",
       "        [7.72003055e-01, 4.34667319e-01, 7.89033845e-02]],\n",
       "\n",
       "       [[6.70095325e-01, 4.34857219e-01, 1.46924956e-02],\n",
       "        [6.59041286e-01, 4.76635903e-01, 2.02263165e-02],\n",
       "        [6.58839107e-01, 4.76179361e-01, 1.92743689e-02],\n",
       "        [6.55695438e-01, 4.71436322e-01, 1.89275555e-02],\n",
       "        [6.77103281e-01, 4.73910332e-01, 1.72295626e-02],\n",
       "        [7.10151553e-01, 4.55270916e-01, 1.80059765e-02],\n",
       "        [7.02748477e-01, 4.35921520e-01, 4.76871617e-02],\n",
       "        [7.52430379e-01, 4.33888048e-01, 2.02119388e-02],\n",
       "        [7.15489328e-01, 4.12763417e-01, 3.08703613e-02],\n",
       "        [7.57673621e-01, 4.36693102e-01, 2.42212303e-02],\n",
       "        [7.62951612e-01, 4.34392124e-01, 3.47194038e-02],\n",
       "        [7.73241937e-01, 4.36758906e-01, 3.38134654e-02],\n",
       "        [7.81583488e-01, 4.34725970e-01, 5.82738593e-02],\n",
       "        [7.88446784e-01, 4.33411986e-01, 4.62762415e-02],\n",
       "        [7.96853304e-01, 4.29307759e-01, 4.49625924e-02],\n",
       "        [8.36657703e-01, 4.34650868e-01, 4.37152646e-02],\n",
       "        [8.36764455e-01, 4.20529902e-01, 2.86002848e-02]]], dtype=float32)"
      ]
     },
     "execution_count": 28,
     "metadata": {},
     "output_type": "execute_result"
    }
   ],
   "source": [
    " results['output_0'].numpy()[:,:,:51].reshape((6,17,3)) #(y,x,score * 17)"
   ]
  },
  {
   "cell_type": "code",
   "execution_count": 25,
   "id": "fd43f804",
   "metadata": {},
   "outputs": [
    {
     "data": {
      "text/plain": [
       "(480, 640, 3)"
      ]
     },
     "execution_count": 25,
     "metadata": {},
     "output_type": "execute_result"
    }
   ],
   "source": [
    "frame.shape"
   ]
  },
  {
   "cell_type": "code",
   "execution_count": 8,
   "id": "80d5cd52",
   "metadata": {},
   "outputs": [],
   "source": [
    "# Function to loop through each person detected and render\n",
    "def loop_through_people(frame, keypoints_with_scores, edges, confidence_threshold):\n",
    "    for person in keypoints_with_scores:\n",
    "        draw_connections(frame, person, edges, confidence_threshold)\n",
    "        draw_keypoints(frame, person, confidence_threshold)"
   ]
  },
  {
   "cell_type": "code",
   "execution_count": 9,
   "id": "47aeadf7",
   "metadata": {},
   "outputs": [
    {
     "ename": "NameError",
     "evalue": "name 'keypoints_with_scores' is not defined",
     "output_type": "error",
     "traceback": [
      "\u001b[1;31m---------------------------------------------------------------------------\u001b[0m",
      "\u001b[1;31mNameError\u001b[0m                                 Traceback (most recent call last)",
      "\u001b[1;32m<ipython-input-9-a36433cca45a>\u001b[0m in \u001b[0;36m<module>\u001b[1;34m\u001b[0m\n\u001b[1;32m----> 1\u001b[1;33m \u001b[0mkeypoints_with_scores\u001b[0m\u001b[1;33m.\u001b[0m\u001b[0mshape\u001b[0m\u001b[1;33m\u001b[0m\u001b[1;33m\u001b[0m\u001b[0m\n\u001b[0m",
      "\u001b[1;31mNameError\u001b[0m: name 'keypoints_with_scores' is not defined"
     ]
    }
   ],
   "source": [
    "keypoints_with_scores.shape"
   ]
  },
  {
   "cell_type": "code",
   "execution_count": 4,
   "id": "af22e34e",
   "metadata": {},
   "outputs": [],
   "source": [
    "#draw keypoints\n",
    "def draw_keypoints(frame, keypoints, confidence_threshold):\n",
    "    y, x, c = frame.shape\n",
    "    shaped = np.squeeze(np.multiply(keypoints, [y,x,1]))\n",
    "    \n",
    "    for kp in shaped:\n",
    "        ky, kx, kp_conf = kp\n",
    "        if kp_conf > confidence_threshold:\n",
    "            cv2.circle(frame, (int(kx), int(ky)), 6, (0,255,0), -1)"
   ]
  },
  {
   "cell_type": "code",
   "execution_count": 5,
   "id": "b89f3a4e",
   "metadata": {},
   "outputs": [],
   "source": [
    "EDGES = {\n",
    "    (0, 1): 'm',\n",
    "    (0, 2): 'c',\n",
    "    (1, 3): 'm',\n",
    "    (2, 4): 'c',\n",
    "    (0, 5): 'm',\n",
    "    (0, 6): 'c',\n",
    "    (5, 7): 'm',\n",
    "    (7, 9): 'm',\n",
    "    (6, 8): 'c',\n",
    "    (8, 10): 'c',\n",
    "    (5, 6): 'y',\n",
    "    (5, 11): 'm',\n",
    "    (6, 12): 'c',\n",
    "    (11, 12): 'y',\n",
    "    (11, 13): 'm',\n",
    "    (13, 15): 'm',\n",
    "    (12, 14): 'c',\n",
    "    (14, 16): 'c'\n",
    "}"
   ]
  },
  {
   "cell_type": "code",
   "execution_count": 6,
   "id": "5508e0a8",
   "metadata": {},
   "outputs": [
    {
     "ename": "NameError",
     "evalue": "name 'keypoints_with_scores' is not defined",
     "output_type": "error",
     "traceback": [
      "\u001b[1;31m---------------------------------------------------------------------------\u001b[0m",
      "\u001b[1;31mNameError\u001b[0m                                 Traceback (most recent call last)",
      "\u001b[1;32m<ipython-input-6-161984f03d28>\u001b[0m in \u001b[0;36m<module>\u001b[1;34m\u001b[0m\n\u001b[1;32m----> 1\u001b[1;33m \u001b[0mkeypoints_with_scores\u001b[0m\u001b[1;33m[\u001b[0m\u001b[1;36m0\u001b[0m\u001b[1;33m]\u001b[0m\u001b[1;33m\u001b[0m\u001b[1;33m\u001b[0m\u001b[0m\n\u001b[0m",
      "\u001b[1;31mNameError\u001b[0m: name 'keypoints_with_scores' is not defined"
     ]
    }
   ],
   "source": [
    "keypoints_with_scores[0]"
   ]
  },
  {
   "cell_type": "code",
   "execution_count": 7,
   "id": "da43cbe0",
   "metadata": {},
   "outputs": [],
   "source": [
    "def draw_connections(frame, keypoints, edges, confidence_threshold):\n",
    "    y, x, c = frame.shape\n",
    "    shaped = np.squeeze(np.multiply(keypoints, [y,x,1]))\n",
    "    \n",
    "    for edge, color in edges.items():\n",
    "        p1, p2 = edge\n",
    "        y1, x1, c1 = shaped[p1]\n",
    "        y2, x2, c2 = shaped[p2]\n",
    "        \n",
    "        if (c1 > confidence_threshold) & (c2 > confidence_threshold):      \n",
    "            cv2.line(frame, (int(x1), int(y1)), (int(x2), int(y2)), (0,0,255), 4)"
   ]
  },
  {
   "cell_type": "code",
   "execution_count": null,
   "id": "96a2dd32",
   "metadata": {},
   "outputs": [],
   "source": []
  }
 ],
 "metadata": {
  "kernelspec": {
   "display_name": "Python 3",
   "language": "python",
   "name": "python3"
  },
  "language_info": {
   "codemirror_mode": {
    "name": "ipython",
    "version": 3
   },
   "file_extension": ".py",
   "mimetype": "text/x-python",
   "name": "python",
   "nbconvert_exporter": "python",
   "pygments_lexer": "ipython3",
   "version": "3.8.8"
  }
 },
 "nbformat": 4,
 "nbformat_minor": 5
}
